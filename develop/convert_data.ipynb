{
 "cells": [
  {
   "cell_type": "code",
   "execution_count": 1,
   "id": "4b0a8a5b-cf22-49f0-baa7-b6c5a9055dad",
   "metadata": {},
   "outputs": [
    {
     "name": "stdout",
     "output_type": "stream",
     "text": [
      "Requirement already satisfied: openpyxl in d:\\miniconda\\envs\\eda_data\\lib\\site-packages (3.1.2)\n",
      "Requirement already satisfied: et-xmlfile in d:\\miniconda\\envs\\eda_data\\lib\\site-packages (from openpyxl) (1.1.0)\n"
     ]
    }
   ],
   "source": [
    "!pip install openpyxl"
   ]
  },
  {
   "cell_type": "code",
   "execution_count": 14,
   "id": "245758a9",
   "metadata": {},
   "outputs": [],
   "source": [
    "import openpyxl\n",
    "\n",
    "def txt_to_excel(input_file, output_file, column_names):\n",
    "    # Создаем новую книгу Excel\n",
    "    wb = openpyxl.Workbook()\n",
    "    # Выбираем активный лист\n",
    "    ws = wb.active\n",
    "\n",
    "    # Открываем текстовый файл для чтения\n",
    "    with open(input_file, 'r') as file:\n",
    "        # Читаем строки из текстового файла\n",
    "        lines = file.readlines()\n",
    "\n",
    "    # Расширяем список имен столбцов\n",
    "    extended_column_names = ['date']\n",
    "    for name in column_names:\n",
    "        if name.strip(): \n",
    "            extended_column_names.extend([name+'_avg', name+'_sd', name+'_max', name+'_min'])\n",
    "        else:\n",
    "            extended_column_names.extend(['', '', '', ''])        \n",
    "            \n",
    "    # Построчно читаем данные и записываем их в файл Excel\n",
    "    for row_idx, line in enumerate(lines, start=1):\n",
    "        # Разделяем строку на ячейки\n",
    "        cells = line.strip().split('\\t')  # Предполагая, что разделитель - табуляция\n",
    "\n",
    "        if row_idx == 1:  # Если это первая строка, записываем имена столбцов\n",
    "            active_column_names = [name for name in extended_column_names if name]  # Фильтруем пустые имена столбцов\n",
    "            for col_idx, col_name in enumerate(active_column_names, start=1):\n",
    "                ws.cell(row=row_idx, column=col_idx, value=col_name)\n",
    "            active_cells = [cell_value for name, cell_value in zip(extended_column_names, cells) if name]  # Фильтруем пустые столбцы\n",
    "            for col_idx, cell_value in enumerate(active_cells, start=1):    \n",
    "                ws.cell(row=row_idx+1, column=col_idx, value=cell_value)\n",
    "        else:  # В остальных случаях записываем данные в ячейки только для непустых столбцов\n",
    "            active_cells = [cell_value for name, cell_value in zip(extended_column_names, cells) if name]  # Фильтруем пустые столбцы\n",
    "            for col_idx, cell_value in enumerate(active_cells, start=1):\n",
    "                # Записываем значение ячейки в файл Excel  \n",
    "                if (col_idx==1):\n",
    "                    ws.cell(row=row_idx+1, column=col_idx, value=cell_value)\n",
    "                else:\n",
    "                    ws.cell(row=row_idx+1, column=col_idx, value=str(cell_value.strip()))\n",
    "    # Сохраняем изменения\n",
    "    wb.save(output_file)\n",
    "    print(f'Файл {output_file} успешно создан!')\n",
    "    "
   ]
  },
  {
   "cell_type": "code",
   "execution_count": 24,
   "id": "91a29543",
   "metadata": {},
   "outputs": [],
   "source": [
    "import pandas as pd\n",
    "\n",
    "def xls_to_csv(input_file, output_file):\n",
    "    # Считываем данные из файла Excel\n",
    "    df = pd.read_excel(input_file, engine='openpyxl')  # Используем openpyxl для файлов .xlsx\n",
    "\n",
    "    # Преобразуем все значения в датафрейме в строковый тип данных\n",
    "    df = df.applymap(str)\n",
    "    \n",
    "    # Записываем данные в файл CSV\n",
    "    df.to_csv(output_file, index=False)\n",
    "\n",
    "    print(f'Файл {output_file} успешно создан!')\n",
    "\n"
   ]
  },
  {
   "cell_type": "code",
   "execution_count": 6,
   "id": "11e8e000",
   "metadata": {},
   "outputs": [],
   "source": [
    "import pandas as pd\n",
    "\n",
    "import pandas as pd\n",
    "\n",
    "def txt_to_csv(input_file, output_file, column_names):\n",
    "\n",
    "  # Открываем текстовый файл для чтения\n",
    "    with open(input_file, 'r') as file:\n",
    "        # Читаем строки из текстового файла\n",
    "        lines = file.readlines()\n",
    "\n",
    "    \n",
    "    # Создаем DataFrame с расширенными именами столбцов\n",
    "    data = {'date': []}\n",
    "    for name in column_names:\n",
    "        if name.strip():\n",
    "            data[name+'_avg'] = []\n",
    "            data[name+'_sd'] = []\n",
    "            data[name+'_max'] = []\n",
    "            data[name+'_min'] = []\n",
    " \n",
    "    for line in lines:\n",
    "        cells = line.strip().split('\\t')\n",
    "        if len(cells) == len(column_names) * 4 + 1:  # Проверяем, что количество ячеек соответствует ожидаемому\n",
    "            data['date'].append(cells[0])\n",
    "            for idx, name in enumerate(column_names, start=1):\n",
    "                if name.strip():\n",
    "                    data[name+'_avg'].append(cells[4*(idx-1) + 1])\n",
    "                    data[name+'_sd'].append(cells[4*(idx-1) + 2])\n",
    "                    data[name+'_max'].append(cells[4*(idx-1) + 3])\n",
    "                    data[name+'_min'].append(cells[4*(idx-1) + 4])\n",
    "\n",
    "\n",
    "    # Создаем DataFrame из словаря\n",
    "    df = pd.DataFrame(data)\n",
    "\n",
    "    # Преобразование столбца с датой в datetime\n",
    "    df['date'] = pd.to_datetime(df['date'], format='%d.%m.%Y %H:%M:%S')\n",
    "\n",
    "    # Конвертация всех числовых столбцов из строк с запятой в float\n",
    "    for column in df.columns:\n",
    "        if column != 'date':\n",
    "            df[column] = df[column].astype(str).str.replace(',', '.').astype(float)\n",
    "\n",
    "    # Записываем DataFrame в CSV файл\n",
    "    df.to_csv(output_file, index=False)\n",
    "    print(f'Файл {output_file} успешно создан!')\n"
   ]
  },
  {
   "cell_type": "code",
   "execution_count": 7,
   "id": "0d65e33c",
   "metadata": {
    "scrolled": true
   },
   "outputs": [],
   "source": [
    "# Пример использования функции\n",
    "directory = \"d:\\\\marina\\\\УИИ\\\\Стажировка 2\\\\анализ данных\\\\\"\n",
    "directory_in = \"d:\\\\marina\\\\УИИ\\\\Стажировка 2\\\\данные_заказчика\\\\\"\n",
    "dict_input_files = ['VIK_Ust-Hayriuzovo_24.02.14_21.09.14_export_base_table.txt',\n",
    "              'VIK_Ust_Kam_23.06.10_30.11.16_export_base_table.txt',\n",
    "              'VIK_Tilichiki_07.11.10_01.08.14_base_table.txt',\n",
    "              'VIK_Palana_30.11.10_15.09.14_export_base_table.txt',\n",
    "              'VIK_Ossora_18.02.11_16.08.13_base_table.txt',\n",
    "              'VIK_Manily_01.04.14_21.09.14_export_base_table.txt']\n",
    "\n",
    "dict_ouput_files = [  'Ust_Hayriuzovo',\n",
    "                      'Ust_Kam',\n",
    "                      'Tilichiki',\n",
    "                      'Palana',\n",
    "                      'Ossora',\n",
    "                      'Manily']\n",
    "\n",
    "dict_columns = [['Anem_40S_34', 'Anem_IF3_34', 'Anem_IF3_20', 'Anem_40S_20', 'Anem_40S_10', '', 'Vane_200P_31', 'Vane_IF3_18', 'Temp_110S_9', '', '', '', '', '', '']\n",
    "                ,\n",
    "                ['Anem_40S_34', 'Anem_IF3_34', 'Anem_IF3_20', '', '', '', 'Vane_200P_31', 'Vane_IF3_18', 'Temp_110S_9', '', '', 'Volt_6', 'Anem_40S_20', 'Anem_40S_10', '']\n",
    "                ,\n",
    "                ['Anem_40S_34', 'Anem_IF3_34', 'Anem_40S_20', '', '', '', 'Vane_200P_31', 'Vane_IF3_18', 'Temp_110S_9', '', '', 'Volt_6', 'Anem_IF3_20', 'Anem_40S_10', '']\n",
    "                ,\n",
    "                ['Anem_40S_34', 'Anem_IF3_34', 'Anem_40S_20', 'Anem_IF3_20', 'Anem_40S_10', '', 'Vane_200P_31', 'Vane_IF3_18', 'Temp_110S_9', '', '', 'Volt_6', '', '', '']\n",
    "                ,\n",
    "                ['Anem_40S_34', 'Anem_IF3_34', 'Anem_40S_20', 'Anem_IF3_20', 'Anem_40S_10', '', 'Vane_200P_31', 'Vane_IF3_18', 'Temp_110S_9', '', '', 'Volt_6', '', '', '']\n",
    "                ,\n",
    "                ['Anem_ThiesTop_41', 'Anem_Thies304NM_40', 'Anem_Thies304NM_19', '', '', 'Vane_304NM_37', 'Vane_200P_0', 'Vane_200P_17', 'Temp_110S_9', 'Bar_BP20_7', 'RelHum_RH5_7', 'Volt_6', 'Anem_40S_34', 'Anem_40S_10', '']\n",
    "                ] "
   ]
  },
  {
   "cell_type": "code",
   "execution_count": null,
   "id": "8a20835c",
   "metadata": {},
   "outputs": [],
   "source": [
    "# Пример использования функции txt_to_excel\n",
    "for input_file, output_name, columns in zip(dict_input_files, dict_ouput_files, dict_columns):\n",
    "    input_file_path = directory_in + input_file\n",
    "    output_file_path = directory + output_name + '.xlsx'\n",
    "    txt_to_excel(input_file_path, output_file_path, columns)"
   ]
  },
  {
   "cell_type": "code",
   "execution_count": null,
   "id": "478dd6d1",
   "metadata": {},
   "outputs": [],
   "source": [
    "# Пример использования функции txt_to_csv\n",
    "for input_file, output_name, columns in zip(dict_input_files, dict_ouput_files, dict_columns):\n",
    "    input_file_path = directory_in + input_file\n",
    "    output_file_path = directory + output_name + '.csv'\n",
    "    txt_to_csv(input_file_path, output_file_path, columns)  "
   ]
  },
  {
   "cell_type": "code",
   "execution_count": null,
   "id": "ea2f46f2",
   "metadata": {},
   "outputs": [],
   "source": [
    "# Пример использования функции xls_to_csv\n",
    "for output_name in dict_ouput_files:\n",
    "    input_file2 = directory + output_name + '.xlsx'\n",
    "    output_file2 = directory + output_name + '.csv'\n",
    "    xls_to_csv(input_file2, output_file2)"
   ]
  }
 ],
 "metadata": {
  "kernelspec": {
   "display_name": "Python 3 (ipykernel)",
   "language": "python",
   "name": "python3"
  },
  "language_info": {
   "codemirror_mode": {
    "name": "ipython",
    "version": 3
   },
   "file_extension": ".py",
   "mimetype": "text/x-python",
   "name": "python",
   "nbconvert_exporter": "python",
   "pygments_lexer": "ipython3",
   "version": "3.12.2"
  }
 },
 "nbformat": 4,
 "nbformat_minor": 5
}
