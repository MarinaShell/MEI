{
 "cells": [
  {
   "cell_type": "code",
   "execution_count": 1,
   "id": "abafa2e5-ad19-41ac-910b-483566c4bf91",
   "metadata": {},
   "outputs": [],
   "source": [
    "# Пример использования функции\n",
    "directory = \"d:\\\\marina\\\\УИИ\\\\Стажировка 2\\\\анализ данных\\\\\"\n",
    "dict_ouput_files = [  'Ust_Hayriuzovo',\n",
    "                      'Ust_Kam',\n",
    "                      'Tilichiki',\n",
    "                      'Palana',\n",
    "                      'Ossora',\n",
    "                      'Manily']\n"
   ]
  },
  {
   "cell_type": "code",
   "execution_count": null,
   "id": "7a2e5023-1193-4b09-a04e-4b0ce6d6666d",
   "metadata": {},
   "outputs": [],
   "source": [
    "import pandas as pd\n",
    "import matplotlib.pyplot as plt\n",
    "\n",
    "#делаем отчеты по опреленным столбцам и по средним значениям\n",
    "filters = ['h', 'D', 'W-MON','ME']\n",
    "train_df=[]\n",
    "for output_name in dict_ouput_files:\n",
    "    csv_file_path = directory + output_name + '.csv'\n",
    "    data = pd.read_csv(csv_file_path)\n",
    "    data['date'] = pd.to_datetime(data['date'], format='%Y-%m-%d %H:%M:%S')\n",
    "\n",
    "    # Выбор столбцов, оканчивающихся на '_avg'\n",
    "    columns_to_keep = [col for col in data.columns if col.endswith('_avg')]\n",
    "    columns_to_keep.insert(0, 'date')  # Вставляем 'date' обратно в список, если он был удален\n",
    "    data = data[columns_to_keep]\n",
    "\n",
    "    for f in filters:     \n",
    "        # Группировка по месяцам и расчет средних значений\n",
    "        # Установка столбца даты как индекса\n",
    "        data.set_index(pd.to_datetime(data['date'],format='%Y-%m-%d %H:%M:%S'), inplace=True)\n",
    "        \n",
    "        # Группировка данных по разным фильтрам и расчет средних значений\n",
    "        filter_means = data.resample(f).mean()\n",
    "        \n",
    "        # Вывод результата\n",
    "        print(filter_means)\n",
    "    \n",
    "        # Создаем график\n",
    "        plt.figure(figsize=(14, 10))  # Размер графика\n",
    "\n",
    "        # Установка столбца с датой как индекса DataFrame\n",
    "        filter_means.set_index('date', inplace=True)\n",
    "        \n",
    "        # Для каждого столбца данных в filter_means рисуем линию\n",
    "        for column in filter_means.columns:\n",
    "            plt.figure(figsize=(12, 8))  # Размер графика\n",
    "            plt.plot(filter_means.index, filter_means[column], label=column)        \n",
    "            # Добавляем название графика, подписи к осям и легенду\n",
    "            title  = 'Средние значения по фильтру ' + output_name+ ' '+ column +' '+ f\n",
    "            plt.title(title)\n",
    "            plt.xlabel('Дата')\n",
    "            plt.ylabel('Среднее значение')\n",
    "            plt.legend()\n",
    "        \n",
    "            # Отображаем график\n",
    "            plt.show()"
   ]
  },
  {
   "cell_type": "code",
   "execution_count": null,
   "id": "e093f22f-2bf8-4d3f-9aaa-9e94c1682181",
   "metadata": {},
   "outputs": [],
   "source": []
  }
 ],
 "metadata": {
  "kernelspec": {
   "display_name": "Python 3 (ipykernel)",
   "language": "python",
   "name": "python3"
  },
  "language_info": {
   "codemirror_mode": {
    "name": "ipython",
    "version": 3
   },
   "file_extension": ".py",
   "mimetype": "text/x-python",
   "name": "python",
   "nbconvert_exporter": "python",
   "pygments_lexer": "ipython3",
   "version": "3.12.2"
  }
 },
 "nbformat": 4,
 "nbformat_minor": 5
}
