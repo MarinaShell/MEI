{
 "cells": [
  {
   "cell_type": "code",
   "execution_count": null,
   "id": "f084aa87-278a-45d4-ab2b-f2d6a00450e4",
   "metadata": {},
   "outputs": [],
   "source": [
    "!pip install sweetviz"
   ]
  },
  {
   "cell_type": "code",
   "execution_count": null,
   "id": "774bb179-58ba-44e1-b556-6567da200353",
   "metadata": {},
   "outputs": [],
   "source": [
    "import sweetviz as sv\n",
    "import pandas as pd"
   ]
  },
  {
   "cell_type": "code",
   "execution_count": 3,
   "id": "534c6249-3c61-4499-a583-0114180b3774",
   "metadata": {},
   "outputs": [],
   "source": [
    "# Пример использования функции\n",
    "directory = \"d:\\\\marina\\\\УИИ\\\\Стажировка 2\\\\анализ данных\\\\\"\n",
    "dict_ouput_files = [  'Ust_Hayriuzovo',\n",
    "                      'Ust_Kam',\n",
    "                      'Tilichiki',\n",
    "                      'Palana',\n",
    "                      'Ossora',\n",
    "                      'Manily']\n"
   ]
  },
  {
   "cell_type": "code",
   "execution_count": null,
   "id": "d209986e-6762-437a-a8d3-5946fe886057",
   "metadata": {},
   "outputs": [],
   "source": [
    "#делаем отчеты по каждой башне\n",
    "train_df=[]\n",
    "    \n",
    "for output_name in dict_ouput_files:\n",
    "    csv_file_path = directory + output_name + '.csv'\n",
    " \n",
    "    data = pd.read_csv(csv_file_path)\n",
    "    data['date'] = pd.to_datetime(data['date'], format='%Y-%m-%d %H:%M:%S')\n",
    "    train_df.append(data)\n",
    "   \n",
    "    # Создаем отчет Sweetviz для текущего DataFrame\n",
    "    comparison_report = sv.analyze([train_df[-1], output_name])\n",
    "    comparison_report.show_notebook(layout='widescreen', w=1200, h=500, scale=1)"
   ]
  },
  {
   "cell_type": "code",
   "execution_count": null,
   "id": "57d831fc-be1a-48b5-adca-0e5c050d01e9",
   "metadata": {},
   "outputs": [],
   "source": [
    "#делаем отчеты по опреленным столбцам и по средним значениям\n",
    "filters = ['h', 'D', 'W-MON','ME']\n",
    "\n",
    "train_df=[]\n",
    "for output_name in dict_ouput_files:\n",
    "    csv_file_path = directory + output_name + '.csv'\n",
    "    # Загружаем DataFrame из CSV файла и добавляем его в список train_df\n",
    "    data = pd.read_csv(csv_file_path)\n",
    "    data['date'] = pd.to_datetime(data['date'], format='%Y-%m-%d %H:%M:%S')\n",
    "\n",
    "    # Выбор столбцов, оканчивающихся на '_avg'\n",
    "    columns_to_keep = [col for col in data.columns if col.endswith('_avg')]\n",
    "    columns_to_keep.insert(0, 'date')  # Вставляем 'date' обратно в список, если он был удален\n",
    "    data = data[columns_to_keep]\n",
    "\n",
    "    for f in filters:     \n",
    "        # Группировка по месяцам и расчет средних значений\n",
    "        # Установка столбца даты как индекса\n",
    "        data.set_index(pd.to_datetime(data['date'],format='%Y-%m-%d %H:%M:%S'), inplace=True)\n",
    "        \n",
    "        # Группировка данных по разным фильтрам и расчет средних значений\n",
    "        filter_means = data.resample(f).mean()\n",
    "        \n",
    "        # Вывод результата\n",
    "        print(filter_means)\n",
    "    \n",
    "        train_df.append(filter_means)\n",
    "       \n",
    "        # Создаем отчет Sweetviz для текущего DataFrame\n",
    "        name_of_file = output_name + '_'+f\n",
    "        comparison_report = sv.analyze([train_df[-1], name_of_file])\n",
    "        comparison_report.show_notebook(layout='widescreen', w=1200, h=500, scale=1)"
   ]
  },
  {
   "cell_type": "code",
   "execution_count": null,
   "id": "e73da49b-8577-42b6-84d9-df1308e8faf1",
   "metadata": {},
   "outputs": [],
   "source": []
  }
 ],
 "metadata": {
  "kernelspec": {
   "display_name": "Python 3 (ipykernel)",
   "language": "python",
   "name": "python3"
  },
  "language_info": {
   "codemirror_mode": {
    "name": "ipython",
    "version": 3
   },
   "file_extension": ".py",
   "mimetype": "text/x-python",
   "name": "python",
   "nbconvert_exporter": "python",
   "pygments_lexer": "ipython3",
   "version": "3.12.2"
  }
 },
 "nbformat": 4,
 "nbformat_minor": 5
}
