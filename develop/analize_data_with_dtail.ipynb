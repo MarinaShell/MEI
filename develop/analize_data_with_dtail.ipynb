{
 "cells": [
  {
   "cell_type": "code",
   "execution_count": null,
   "id": "43b022ec-ace5-4dbb-bd4a-f1a847fbd75d",
   "metadata": {},
   "outputs": [],
   "source": [
    "# or PyPI\n",
    "!pip install dtale"
   ]
  },
  {
   "cell_type": "code",
   "execution_count": 12,
   "id": "f6fd2dfd-e4ed-470e-8ed2-e6cfbd2eadf4",
   "metadata": {},
   "outputs": [],
   "source": [
    "import dtale\n",
    "import pandas as pd\n",
    "import dtale.global_state as global_state\n",
    "\n",
    "global_state.set_chart_settings({'scatter_points': 450000, '3d_points': 500000})"
   ]
  },
  {
   "cell_type": "code",
   "execution_count": 14,
   "id": "9a51e1f2-0643-48ad-9db0-23e920fa58de",
   "metadata": {},
   "outputs": [],
   "source": [
    "# Пример использования функции\n",
    "directory = \"d:\\\\marina\\\\УИИ\\\\Стажировка 2\\\\анализ данных\\\\\"\n",
    "dict_ouput_files = [  'Ust_Hayriuzovo',\n",
    "                      'Ust_Kam',\n",
    "                      'Tilichiki',\n",
    "                      'Palana',\n",
    "                      'Ossora',\n",
    "                      'Manily']\n"
   ]
  },
  {
   "cell_type": "code",
   "execution_count": null,
   "id": "f514e15b-4d4a-4428-96b5-ef81b85513bb",
   "metadata": {},
   "outputs": [],
   "source": [
    "for output_name in dict_ouput_files:\n",
    "    csv_file_path = directory + output_name + '.csv'\n",
    "    data = pd.read_csv(csv_file_path)\n",
    "    data['date'] = pd.to_datetime(data['date'], format='%Y-%m-%d %H:%M:%S')\n",
    "    df = pd.DataFrame(data)\n",
    "    d = dtale.show(df)\n",
    "    d.open_browser()"
   ]
  },
  {
   "cell_type": "code",
   "execution_count": null,
   "id": "d5a22cdc-f545-4a2e-9b99-87cd7d14b43c",
   "metadata": {},
   "outputs": [],
   "source": []
  }
 ],
 "metadata": {
  "kernelspec": {
   "display_name": "Python 3 (ipykernel)",
   "language": "python",
   "name": "python3"
  },
  "language_info": {
   "codemirror_mode": {
    "name": "ipython",
    "version": 3
   },
   "file_extension": ".py",
   "mimetype": "text/x-python",
   "name": "python",
   "nbconvert_exporter": "python",
   "pygments_lexer": "ipython3",
   "version": "3.12.2"
  }
 },
 "nbformat": 4,
 "nbformat_minor": 5
}
